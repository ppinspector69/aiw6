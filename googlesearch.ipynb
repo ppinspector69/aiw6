{
  "nbformat": 4,
  "nbformat_minor": 0,
  "metadata": {
    "colab": {
      "provenance": []
    },
    "kernelspec": {
      "name": "python3",
      "display_name": "Python 3"
    },
    "language_info": {
      "name": "python"
    }
  },
  "cells": [
    {
      "cell_type": "code",
      "execution_count": 18,
      "metadata": {
        "colab": {
          "base_uri": "https://localhost:8080/"
        },
        "id": "8BYGDCrmPYvy",
        "outputId": "b90e86b4-7345-4148-e2bc-4d42b09b4691"
      },
      "outputs": [
        {
          "output_type": "stream",
          "name": "stdout",
          "text": [
            "title: EDP445 Finally Got His Cupcake - YouTubewww.youtube.com › watch\n",
            "link: https://www.youtube.com/watch%3Fv%3Db1gHKBzXWTc&sa=U&ved=2ahUKEwi32vGImomCAxV2FFkFHS0cCCsQtwJ6BAgFEAE&usg=AOvVaw3t-susjvZ1mtwqVGvl4_oi\n",
            "title: \n",
            "link: https://www.youtube.com/watch%3Fv%3Db1gHKBzXWTc&sa=U&ved=2ahUKEwi32vGImomCAxV2FFkFHS0cCCsQuAJ6BAgFEAI&usg=AOvVaw0cRG7v2dMiFhxBiChetUfa\n",
            "title: EDP445's Cupcake Incident - 1 Year Later - YouTubewww.youtube.com › watch\n",
            "link: https://www.youtube.com/watch%3Fv%3D7V3ph8emaHE&sa=U&ved=2ahUKEwi32vGImomCAxV2FFkFHS0cCCsQtwJ6BAgJEAE&usg=AOvVaw338YDQTEQ2k6ghLcPZGFWf\n",
            "title: \n",
            "link: https://www.youtube.com/watch%3Fv%3D7V3ph8emaHE&sa=U&ved=2ahUKEwi32vGImomCAxV2FFkFHS0cCCsQuAJ6BAgJEAI&usg=AOvVaw2BELsgDUkdc8GWIFWd4-JP\n",
            "title: EDP445 Gets His Cupcake - YouTubewww.youtube.com › watch\n",
            "link: https://www.youtube.com/watch%3Fv%3DdaTBQbz30ZE&sa=U&ved=2ahUKEwi32vGImomCAxV2FFkFHS0cCCsQtwJ6BAgDEAE&usg=AOvVaw2TdhR4Co_Sneon2QcmESjc\n",
            "title: \n",
            "link: https://www.youtube.com/watch%3Fv%3DdaTBQbz30ZE&sa=U&ved=2ahUKEwi32vGImomCAxV2FFkFHS0cCCsQuAJ6BAgDEAI&usg=AOvVaw21DuFmppPDj_5HKFSGBvNv\n",
            "title: JiDion confronts EDP445 in public years after “cupcake incident”www.dexerto.com › entertainment › jidion-confronts-edp445-in-public-ye...\n",
            "link: https://www.dexerto.com/entertainment/jidion-confronts-edp445-in-public-years-after-cupcake-incident-2276997/&sa=U&ved=2ahUKEwi32vGImomCAxV2FFkFHS0cCCsQFnoECAgQAg&usg=AOvVaw3LJ8Vjl22QWcUINV07TmgC\n",
            "title: EDP445 Finally Got His Cupcake #Edp445 #Cupcake #Dramawww.tiktok.com › Jalyn (@jalyncommentary) | TikTok\n",
            "link: https://www.tiktok.com/%40jalyncommentary/video/7167854940587642158%3Flang%3Den&sa=U&ved=2ahUKEwi32vGImomCAxV2FFkFHS0cCCsQtwJ6BAgEEAE&usg=AOvVaw0-iwDQ7t4UWm2VXtIVU7X8\n",
            "title: \n",
            "link: https://www.tiktok.com/%40jalyncommentary/video/7167854940587642158%3Flang%3Den&sa=U&ved=2ahUKEwi32vGImomCAxV2FFkFHS0cCCsQuAJ6BAgEEAI&usg=AOvVaw2ZERz5GmTZq7KpYsRgwDKz\n",
            "title: Edp was just exposed again by Jidion #jidion #edp #cupcake #foryouwww.tiktok.com › video\n",
            "link: https://www.tiktok.com/%40noahglenncarter/video/7274704824510303531%3Flang%3Den&sa=U&ved=2ahUKEwi32vGImomCAxV2FFkFHS0cCCsQtwJ6BAgKEAE&usg=AOvVaw3wJ_KBKI833KS9AhAVgzUk\n",
            "title: \n",
            "link: https://www.tiktok.com/%40noahglenncarter/video/7274704824510303531%3Flang%3Den&sa=U&ved=2ahUKEwi32vGImomCAxV2FFkFHS0cCCsQuAJ6BAgKEAI&usg=AOvVaw02WUW_nocaHCCdHzO5DPSf\n",
            "title: What happened to EDP445? #EDP445 #EDP ... - TikTokwww.tiktok.com › Cole Crenshaw (@crenbeast) | TikTok\n",
            "link: https://www.tiktok.com/%40crenbeast/video/7170123668834602283%3Flang%3Den&sa=U&ved=2ahUKEwi32vGImomCAxV2FFkFHS0cCCsQtwJ6BAgLEAE&usg=AOvVaw0Tx_j_q1zBXTJkbjbCot-j\n",
            "title: \n",
            "link: https://www.tiktok.com/%40crenbeast/video/7170123668834602283%3Flang%3Den&sa=U&ved=2ahUKEwi32vGImomCAxV2FFkFHS0cCCsQuAJ6BAgLEAI&usg=AOvVaw0gG3_W3xT2a6q11W6xRHp1\n",
            "title: edp445 cupcake incident full video｜TikTok Searchwww.tiktok.com › Discover\n",
            "link: https://www.tiktok.com/discover/edp445-cupcake-incident-full-video&sa=U&ved=2ahUKEwi32vGImomCAxV2FFkFHS0cCCsQFnoECAIQAg&usg=AOvVaw3FEfPgafN9egl_1qrGSjWJ\n",
            "title: YouTuber EDP445 Exposed Trying To Meet With 13-Year-Old Girlvendettasportsmedia.com › Archive Post\n",
            "link: https://vendettasportsmedia.com/youtuber-edp445-exposed-trying-meet-13-year-old-girl/&sa=U&ved=2ahUKEwi32vGImomCAxV2FFkFHS0cCCsQFnoECAYQAg&usg=AOvVaw1Z0-LSm-MCajMc2TJ4o86c\n"
          ]
        }
      ],
      "source": [
        "import requests\n",
        "from bs4 import BeautifulSoup\n",
        "#url\n",
        "url = 'https://www.google.com/search'\n",
        "#search parameter\n",
        "myprm = {'q' : 'edp cupcake'} #put in the desired keyword\n",
        "#download the result\n",
        "r = requests.get(url, params = myprm)\n",
        "soup = BeautifulSoup(r.text, 'html.parser') #parse html\n",
        "#print(soup.prettify()) #check structure\n",
        "items = soup.select('div.kCrYT > a[href^=\"/url\"]') #css selector\n",
        "for i in items:\n",
        "  print('title: ' + i.text)\n",
        "  print('link: ' + i.get('href').replace('/url?q=', ''))"
      ]
    }
  ]
}