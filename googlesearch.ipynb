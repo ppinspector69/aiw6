{
  "nbformat": 4,
  "nbformat_minor": 0,
  "metadata": {
    "colab": {
      "provenance": []
    },
    "kernelspec": {
      "name": "python3",
      "display_name": "Python 3"
    },
    "language_info": {
      "name": "python"
    }
  },
  "cells": [
    {
      "cell_type": "code",
      "execution_count": 34,
      "metadata": {
        "colab": {
          "base_uri": "https://localhost:8080/"
        },
        "id": "8BYGDCrmPYvy",
        "outputId": "6feb2e85-9680-47d0-fef4-b05d25a35605"
      },
      "outputs": [
        {
          "output_type": "stream",
          "name": "stdout",
          "text": [
            "TITLE: 'Rizz' meaning: Definition of slang term and examples of how to use itwww.usatoday.com › story › tech › 2023/06/03 › rizz-meaning-definition-...\n",
            "LINK: https://www.usatoday.com/story/tech/2023/06/03/rizz-meaning-definition-social-media-slang/70273422007/&sa=U&ved=2ahUKEwik556Di4qCAxVjHTQIHay3CzkQFnoECAAQAw&usg=AOvVaw1W1bTCzIBuCsdy1D_OdZLP\n",
            "\n",
            "TITLE: Rizz Definition & Meaning - Merriam-Websterwww.merriam-webster.com › dictionary › rizz\n",
            "LINK: https://www.merriam-webster.com/dictionary/rizz&sa=U&ved=2ahUKEwik556Di4qCAxVjHTQIHay3CzkQFnoECAsQAg&usg=AOvVaw0NU-Sn0_s7KXSLGtD0Xm9W\n",
            "\n",
            "TITLE: Rizz Definition & Meaning - Dictionary.comwww.dictionary.com › browse › rizz\n",
            "LINK: https://www.dictionary.com/browse/rizz&sa=U&ved=2ahUKEwik556Di4qCAxVjHTQIHay3CzkQFnoECAkQAg&usg=AOvVaw2-vl7Rqaz4nZ0VKYtrps4n\n",
            "\n",
            "TITLE: What does rizz mean? - The Today Showwww.today.com › teens › rizz-meaning-social-media-slang-rcna89400\n",
            "LINK: https://www.today.com/parents/teens/rizz-meaning-social-media-slang-rcna89400&sa=U&ved=2ahUKEwik556Di4qCAxVjHTQIHay3CzkQFnoECAoQAg&usg=AOvVaw2JqsECFZE-q7yBsAXnoLRa\n",
            "\n",
            "TITLE: Rizz - Urban Dictionarywww.urbandictionary.com › define › term=Rizz\n",
            "LINK: https://www.urbandictionary.com/define.php%3Fterm%3DRizz&sa=U&ved=2ahUKEwik556Di4qCAxVjHTQIHay3CzkQFnoECAgQAg&usg=AOvVaw3iRgUatLacj-c1R-rllES-\n",
            "\n",
            "TITLE: What does Rizz mean? | Later Social Media Glossarylater.com › Social Media Glossary\n",
            "LINK: https://later.com/social-media-glossary/rizz/&sa=U&ved=2ahUKEwik556Di4qCAxVjHTQIHay3CzkQFnoECAMQAg&usg=AOvVaw2r2zy4YPC5cR1PxpvQCpD_\n",
            "\n",
            "TITLE: Do You Have 'Rizz'? Teen Slang Befuddles Parents—Again - WSJwww.wsj.com › style › rizz-meaning-teen-slang-3cf8e911\n",
            "LINK: https://www.wsj.com/style/rizz-meaning-teen-slang-3cf8e911&sa=U&ved=2ahUKEwik556Di4qCAxVjHTQIHay3CzkQFnoECAYQAg&usg=AOvVaw1qagQV0p2IzzvQZPDMdkjg\n",
            "\n",
            "TITLE: RIZZ — #1 AI Dating Assistantrizzlabs.com\n",
            "LINK: https://rizzlabs.com/&sa=U&ved=2ahUKEwik556Di4qCAxVjHTQIHay3CzkQFnoECAQQAg&usg=AOvVaw0omBNvcuc1yUQ7YhMFfW1A\n",
            "\n",
            "TITLE: DDG - Rizz (Official Music Video) - YouTubewww.youtube.com › watch\n",
            "LINK: https://www.youtube.com/watch%3Fv%3DNzB2h6pVe4E&sa=U&ved=2ahUKEwik556Di4qCAxVjHTQIHay3CzkQtwJ6BAgFEAE&usg=AOvVaw0zrw_q-v8udhvWeZOm89Pb\n",
            "\n",
            "TITLE: \n",
            "LINK: https://www.youtube.com/watch%3Fv%3DNzB2h6pVe4E&sa=U&ved=2ahUKEwik556Di4qCAxVjHTQIHay3CzkQuAJ6BAgFEAI&usg=AOvVaw1aHiSZg72eaW-ViqFq3u_P\n",
            "\n",
            "TITLE: 'Rizz': What it means, who has it and how to find your own - CNNwww.cnn.com › rizz-meaning-explained-cec\n",
            "LINK: https://www.cnn.com/us/rizz-meaning-explained-cec/index.html&sa=U&ved=2ahUKEwik556Di4qCAxVjHTQIHay3CzkQFnoECAcQAg&usg=AOvVaw2MeGE2kvGbZnnQKos2i6WE\n",
            "\n"
          ]
        }
      ],
      "source": [
        "import requests\n",
        "from bs4 import BeautifulSoup\n",
        "#url\n",
        "url = 'https://www.google.com/search'\n",
        "#search parameter\n",
        "myprm = {'q' : 'rizz'} #put in the desired keyword\n",
        "#download the result\n",
        "r = requests.get(url, params = myprm)\n",
        "soup = BeautifulSoup(r.text, 'html.parser') #parse html\n",
        "#print(soup.prettify()) #check structure\n",
        "items = soup.select('div.kCrYT > a[href^=\"/url\"]') #css selector\n",
        "for i in items:\n",
        "  print('TITLE: ' + i.text)\n",
        "  print('LINK: ' + i.get('href').replace('/url?q=', ''))\n",
        "  print()"
      ]
    }
  ]
}