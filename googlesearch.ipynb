{
  "nbformat": 4,
  "nbformat_minor": 0,
  "metadata": {
    "colab": {
      "provenance": []
    },
    "kernelspec": {
      "name": "python3",
      "display_name": "Python 3"
    },
    "language_info": {
      "name": "python"
    }
  },
  "cells": [
    {
      "cell_type": "code",
      "execution_count": 3,
      "metadata": {
        "colab": {
          "base_uri": "https://localhost:8080/"
        },
        "id": "8BYGDCrmPYvy",
        "outputId": "238f0138-f872-4e81-c225-35c18b620161"
      },
      "outputs": [
        {
          "output_type": "stream",
          "name": "stdout",
          "text": [
            "title: EDP445 Finally Got His Cupcake - YouTubewww.youtube.com › watch\n",
            "link: https://www.youtube.com/watch%3Fv%3Db1gHKBzXWTc&sa=U&ved=2ahUKEwjG0riKh4qCAxWBHTQIHWR2AaAQtwJ6BAgJEAE&usg=AOvVaw0daynJkCf6CSGtiCjxh32l\n",
            "ඞ\n",
            "title: \n",
            "link: https://www.youtube.com/watch%3Fv%3Db1gHKBzXWTc&sa=U&ved=2ahUKEwjG0riKh4qCAxWBHTQIHWR2AaAQuAJ6BAgJEAI&usg=AOvVaw3vThrrAdiSVqWGAtMt4Av_\n",
            "ඞ\n",
            "title: EDP445's Cupcake Incident - 1 Year Later - YouTubewww.youtube.com › watch\n",
            "link: https://www.youtube.com/watch%3Fv%3D7V3ph8emaHE&sa=U&ved=2ahUKEwjG0riKh4qCAxWBHTQIHWR2AaAQtwJ6BAgKEAE&usg=AOvVaw3ZY1CirDvNa-wJ6svrGR_l\n",
            "ඞ\n",
            "title: \n",
            "link: https://www.youtube.com/watch%3Fv%3D7V3ph8emaHE&sa=U&ved=2ahUKEwjG0riKh4qCAxWBHTQIHWR2AaAQuAJ6BAgKEAI&usg=AOvVaw1CkVnvIOHtY_r9pKvviY-J\n",
            "ඞ\n",
            "title: JiDion confronts EDP445 in public years after “cupcake incident”www.dexerto.com › entertainment › jidion-confronts-edp445-in-public-ye...\n",
            "link: https://www.dexerto.com/entertainment/jidion-confronts-edp445-in-public-years-after-cupcake-incident-2276997/&sa=U&ved=2ahUKEwjG0riKh4qCAxWBHTQIHWR2AaAQFnoECAgQAg&usg=AOvVaw2xG1jd6yrSYIRXr6pYPM_l\n",
            "ඞ\n",
            "title: EDP445 Gets His Cupcake - YouTubewww.youtube.com › watch\n",
            "link: https://www.youtube.com/watch%3Fv%3DdaTBQbz30ZE&sa=U&ved=2ahUKEwjG0riKh4qCAxWBHTQIHWR2AaAQtwJ6BAgGEAE&usg=AOvVaw1CZ2m6hfF-iOlewaieCUZ4\n",
            "ඞ\n",
            "title: \n",
            "link: https://www.youtube.com/watch%3Fv%3DdaTBQbz30ZE&sa=U&ved=2ahUKEwjG0riKh4qCAxWBHTQIHWR2AaAQuAJ6BAgGEAI&usg=AOvVaw2TJIsXQ2u43icJ0EKK5dZW\n",
            "ඞ\n",
            "title: EDP445 Finally Got His Cupcake #Edp445 #Cupcake #Dramawww.tiktok.com › Jalyn (@jalyncommentary) | TikTok\n",
            "link: https://www.tiktok.com/%40jalyncommentary/video/7167854940587642158%3Flang%3Den&sa=U&ved=2ahUKEwjG0riKh4qCAxWBHTQIHWR2AaAQtwJ6BAgHEAE&usg=AOvVaw3GE8V0Cnybcx0DCXkeZhFv\n",
            "ඞ\n",
            "title: \n",
            "link: https://www.tiktok.com/%40jalyncommentary/video/7167854940587642158%3Flang%3Den&sa=U&ved=2ahUKEwjG0riKh4qCAxWBHTQIHWR2AaAQuAJ6BAgHEAI&usg=AOvVaw1hKsqgCWFKrBhilLwg28RV\n",
            "ඞ\n",
            "title: What happened to EDP445? #EDP445 #EDP ... - TikTokwww.tiktok.com › Cole Crenshaw (@crenbeast) | TikTok\n",
            "link: https://www.tiktok.com/%40crenbeast/video/7170123668834602283%3Flang%3Den&sa=U&ved=2ahUKEwjG0riKh4qCAxWBHTQIHWR2AaAQtwJ6BAgFEAE&usg=AOvVaw1Xw-rkkVyf-S5-1cL0uxA4\n",
            "ඞ\n",
            "title: \n",
            "link: https://www.tiktok.com/%40crenbeast/video/7170123668834602283%3Flang%3Den&sa=U&ved=2ahUKEwjG0riKh4qCAxWBHTQIHWR2AaAQuAJ6BAgFEAI&usg=AOvVaw0ZhJTTmJuGAjMdEbH_VSBs\n",
            "ඞ\n",
            "title: Edp was just exposed again by Jidion #jidion #edp #cupcake #foryouwww.tiktok.com › video\n",
            "link: https://www.tiktok.com/%40noahglenncarter/video/7274704824510303531%3Flang%3Den&sa=U&ved=2ahUKEwjG0riKh4qCAxWBHTQIHWR2AaAQtwJ6BAgLEAE&usg=AOvVaw3rEoQeQLnjcFIgBGxCP2yi\n",
            "ඞ\n",
            "title: \n",
            "link: https://www.tiktok.com/%40noahglenncarter/video/7274704824510303531%3Flang%3Den&sa=U&ved=2ahUKEwjG0riKh4qCAxWBHTQIHWR2AaAQuAJ6BAgLEAI&usg=AOvVaw0OjtdXabPsaV6eMNDMRtaU\n",
            "ඞ\n",
            "title: Bro got caught again ♂ #   #cupcakeincident #edp445 ... - TikTokwww.tiktok.com › Nethal1 (@nethal1) | TikTok\n",
            "link: https://www.tiktok.com/%40nethal1/video/7274828218794806574&sa=U&ved=2ahUKEwjG0riKh4qCAxWBHTQIHWR2AaAQtwJ6BAgEEAE&usg=AOvVaw02spkmtjwpGazzSPLPM0pO\n",
            "ඞ\n",
            "title: \n",
            "link: https://www.tiktok.com/%40nethal1/video/7274828218794806574&sa=U&ved=2ahUKEwjG0riKh4qCAxWBHTQIHWR2AaAQuAJ6BAgEEAI&usg=AOvVaw0tYsSj-7gLmlGFhIQfMVQF\n",
            "ඞ\n",
            "title: edp445 cupcake incident full video｜TikTok Searchwww.tiktok.com › Discover\n",
            "link: https://www.tiktok.com/discover/edp445-cupcake-incident-full-video&sa=U&ved=2ahUKEwjG0riKh4qCAxWBHTQIHWR2AaAQFnoECAMQAg&usg=AOvVaw2kSV_Phu3N_v74wO_qZHDF\n",
            "ඞ\n"
          ]
        }
      ],
      "source": [
        "import requests\n",
        "from bs4 import BeautifulSoup\n",
        "#url\n",
        "url = 'https://www.google.com/search'\n",
        "#search parameter\n",
        "myprm = {'q' : 'edp cupcake'} #put in the desired keyword\n",
        "#download the result\n",
        "r = requests.get(url, params = myprm)\n",
        "soup = BeautifulSoup(r.text, 'html.parser') #parse html\n",
        "#print(soup.prettify()) #check structure\n",
        "items = soup.select('div.kCrYT > a[href^=\"/url\"]') #css selector\n",
        "for i in items:\n",
        "  print('title: ' + i.text)\n",
        "  print('link: ' + i.get('href').replace('/url?q=', ''))\n",
        "  print('ඞ')"
      ]
    }
  ]
}